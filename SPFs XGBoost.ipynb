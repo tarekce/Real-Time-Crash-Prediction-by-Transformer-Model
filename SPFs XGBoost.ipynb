{
 "cells": [
  {
   "cell_type": "code",
   "execution_count": null,
   "id": "89e64fb3",
   "metadata": {},
   "outputs": [],
   "source": [
    "# import modules\n",
    "import numpy as np\n",
    "import pandas as pd\n",
    "import glob\n",
    "import datetime\n",
    "import matplotlib.pyplot as plt\n",
    "import seaborn as sb"
   ]
  },
  {
   "cell_type": "code",
   "execution_count": null,
   "id": "1926db1a",
   "metadata": {},
   "outputs": [],
   "source": [
    "pd.set_option('display.width', None)\n",
    "pd.set_option('display.max_columns', None)\n",
    "pd.set_option('display.max_rows', None)"
   ]
  },
  {
   "cell_type": "code",
   "execution_count": null,
   "id": "4556e2c6",
   "metadata": {},
   "outputs": [],
   "source": [
    "import xgboost as xgb\n",
    "from sklearn.model_selection import GridSearchCV\n",
    "from sklearn.metrics import mean_absolute_error\n",
    "from xgboost import plot_importance\n",
    "from sklearn.metrics import mean_squared_error"
   ]
  },
  {
   "cell_type": "code",
   "execution_count": null,
   "id": "c165b199",
   "metadata": {},
   "outputs": [],
   "source": [
    "#df = pd.read_csv(r'G:\\NCHRP\\PTSU_VAS\\SPF_Data\\Analysis\\pm_peak_nb_4_hrs.csv', low_memory=True)\n",
    "df = pd.read_csv(r'G:\\NCHRP\\PTSU_VAS\\SPF_Data\\Analysis\\PM_SB_All_Seg.csv', low_memory=True)"
   ]
  },
  {
   "cell_type": "code",
   "execution_count": null,
   "id": "5ce456c2",
   "metadata": {},
   "outputs": [],
   "source": [
    "#Creating Categorical Variable for left and right shoulder width\n",
    "df['RightShoulderWidthCat'] = 0\n",
    "df.loc[df['RightShoulderWidth'] > 10, 'RightShoulderWidthCat'] = 1\n",
    "df['LeftShoulderWidthCat'] = 0\n",
    "df.loc[df['LeftShoulderWidth'] > 5, 'LeftShoulderWidthCat'] = 1"
   ]
  },
  {
   "cell_type": "code",
   "execution_count": null,
   "id": "3da78d19",
   "metadata": {},
   "outputs": [],
   "source": [
    "#Preliminary\n",
    "df_sel = df[['AvgVolume', 'AvgSpeed', 'StdSpeed',\n",
    "       'CoefOfVarSpeed', 'AvgOccupancy', 'StdOccupancy', 'CoefOfVarOccupancy',\n",
    "       'SegmentLength', 'ThruLanes', 'SegmentType', 'RightShoulderWidthCat', 'LeftShoulderWidthCat',\n",
    "       'Turnout', 'Diff_Avg_Volume_Down', 'Diff_Avg_Volume_Up',\n",
    "       'Diff_Avg_Volume', 'Diff_Avg_Occupancy_Down', 'Diff_Avg_Occupancy_Up',\n",
    "       'Diff_Avg_Occupancy', 'Diff_Std_Occupancy_Down',\n",
    "       'Diff_Std_Occupancy_Up', 'Diff_Std_Occupancy',\n",
    "       'Diff_CoefOfVar_Occupancy_Down', 'Diff_CoefOfVar_Occupancy_Up',\n",
    "       'Diff_CoefOfVar_Occupancy', 'Diff_Avg_Speed_Down', 'Diff_Avg_Speed_Up',\n",
    "       'Diff_Avg_Speed', 'Diff_Std_Speed_Down', 'Diff_Std_Speed_Up',\n",
    "       'Diff_Std_Speed', 'Diff_CoefOfVar_Speed_Down',\n",
    "       'Diff_CoefOfVar_Speed_Up', 'Diff_CoefOfVar_Speed',\n",
    "       'TotalCrashes']]"
   ]
  },
  {
   "cell_type": "code",
   "execution_count": null,
   "id": "8260f386",
   "metadata": {},
   "outputs": [],
   "source": [
    "df_sel['ThruLanes'] =  df_sel['ThruLanes'].astype(\"category\")\n",
    "df_sel['SegmentType'] =  df_sel['SegmentType'].astype(\"category\")\n",
    "df_sel['Turnout'] =  df_sel['Turnout'].astype(\"category\")\n",
    "df_sel['LeftShoulderWidthCat'] =  df_sel['LeftShoulderWidthCat'].astype(\"category\")\n",
    "df_sel['RightShoulderWidthCat'] =  df_sel['RightShoulderWidthCat'].astype(\"category\")"
   ]
  },
  {
   "cell_type": "code",
   "execution_count": null,
   "id": "c42a66a4",
   "metadata": {},
   "outputs": [],
   "source": [
    "X_train = df_sel.drop(columns=['TotalCrashes'])\n",
    "y_train = df_sel[['TotalCrashes']]"
   ]
  },
  {
   "cell_type": "code",
   "execution_count": null,
   "id": "71648647",
   "metadata": {},
   "outputs": [],
   "source": [
    "model_xgb = xgb.XGBRegressor(tree_method=\"hist\", enable_categorical=True, eval_metric= mean_absolute_error)\n",
    "\n",
    "param_grid = {\"max_depth\":    [2, 4, 6, 8, 10],   #default: 6\n",
    "              \"n_estimators\": [100, 300, 600],  \n",
    "              \"learning_rate\": [0.001, 0.01, 0.1, 0.8],  #default: 0.3\n",
    "              \"objective\": ['count:poisson'],\n",
    "              \"gamma\": [0.001,0.01,0.1],\n",
    "              \"subsample\": [0.5, 0.75, 1.0],\n",
    "              \"colsample_bytree\": [0.5, 0.75, 1.0],\n",
    "              \"colsample_bylevel\": [0.5, 0.75, 1.0]\n",
    "             }\n",
    "# try out every combination of the above values\n",
    "GS_xgb = GridSearchCV(model_xgb, param_grid, cv=5).fit(X_train, y_train, early_stopping_rounds= 50, eval_set=[(X_train, y_train)])\n",
    "\n",
    "print(\"The best hyperparameters are \", GS_xgb.best_params_)"
   ]
  },
  {
   "cell_type": "code",
   "execution_count": null,
   "id": "11c8026c",
   "metadata": {},
   "outputs": [],
   "source": [
    "#XGBoost\n",
    "#tree_method : exact, approx, hist\n",
    "model_xgb = xgb.XGBRegressor(tree_method=\"hist\",\n",
    "                             enable_categorical= True, \n",
    "                             objective='count:poisson',\n",
    "                              n_estimators=100,\n",
    "                              eta= 0.1,\n",
    "                              gamma = 0.1,\n",
    "                              subsample = 0.75,\n",
    "                              colsample_bytree = 0.75,\n",
    "                              colsample_bylevel = 1.0,\n",
    "                              max_depth=8,\n",
    "                              eval_metric = mean_absolute_error\n",
    "                            )\n",
    "\n",
    "model_xgb.fit(X_train, y_train, early_stopping_rounds= 10, eval_set=[(X_train, y_train)])\n",
    "y_pred = model_xgb.predict(X_train)\n",
    "print(\"Mean Absolute Error:\", mean_absolute_error(y_train, y_pred))"
   ]
  },
  {
   "cell_type": "code",
   "execution_count": null,
   "id": "96106e51",
   "metadata": {},
   "outputs": [],
   "source": [
    "plot_importance(model_xgb\n",
    "                #,max_num_features= 30\n",
    "               )\n",
    "plt.show()"
   ]
  },
  {
   "cell_type": "code",
   "execution_count": null,
   "id": "f02dab77",
   "metadata": {},
   "outputs": [],
   "source": [
    "df['Pred_XGB'] = y_pred"
   ]
  },
  {
   "cell_type": "code",
   "execution_count": null,
   "id": "87f65c25",
   "metadata": {},
   "outputs": [],
   "source": [
    "mean_squared_error(y_train, y_pred, squared=False)"
   ]
  }
 ],
 "metadata": {
  "kernelspec": {
   "display_name": "Python 3 (ipykernel)",
   "language": "python",
   "name": "python3"
  },
  "language_info": {
   "codemirror_mode": {
    "name": "ipython",
    "version": 3
   },
   "file_extension": ".py",
   "mimetype": "text/x-python",
   "name": "python",
   "nbconvert_exporter": "python",
   "pygments_lexer": "ipython3",
   "version": "3.11.2"
  },
  "varInspector": {
   "cols": {
    "lenName": 16,
    "lenType": 16,
    "lenVar": 40
   },
   "kernels_config": {
    "python": {
     "delete_cmd_postfix": "",
     "delete_cmd_prefix": "del ",
     "library": "var_list.py",
     "varRefreshCmd": "print(var_dic_list())"
    },
    "r": {
     "delete_cmd_postfix": ") ",
     "delete_cmd_prefix": "rm(",
     "library": "var_list.r",
     "varRefreshCmd": "cat(var_dic_list()) "
    }
   },
   "types_to_exclude": [
    "module",
    "function",
    "builtin_function_or_method",
    "instance",
    "_Feature"
   ],
   "window_display": false
  }
 },
 "nbformat": 4,
 "nbformat_minor": 5
}
